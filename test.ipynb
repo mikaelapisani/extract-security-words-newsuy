{
 "cells": [
  {
   "cell_type": "code",
   "execution_count": 2,
   "metadata": {},
   "outputs": [],
   "source": [
    "#reference: https://www.earthdatascience.org/courses/use-data-open-source-python/intro-to-apis/twitter-data-in-python/\n",
    "\n",
    "import os\n",
    "import tweepy as tw\n",
    "import pandas as pd\n",
    "\n",
    "consumer_key='Aui0x7f6MGnsXEjdSMOeBVoqa'\n",
    "consumer_secret='i3uUUhag9IA9xYXXGRrOJefw6pqcB1eaVnfzb4ZFOKn9F9gfb6'\n",
    "access_token='757232698117283840-uO9a5o37b9zGlPadTaa60uD4Bk4b836'\n",
    "access_token_secret='fVsGIIjJLhAgMJoGLfcIRN99k7v6udG3vfpfWBc84nuOE'\n",
    "\n",
    "\n",
    "search_words = \"#seguridad\"\n",
    "date_since = \"2018-01-01\"\n"
   ]
  },
  {
   "cell_type": "code",
   "execution_count": 3,
   "metadata": {},
   "outputs": [],
   "source": [
    "auth = tw.OAuthHandler(consumer_key, consumer_secret)\n",
    "auth.set_access_token(access_token, access_token_secret)\n",
    "api = tw.API(auth, wait_on_rate_limit=True)"
   ]
  },
  {
   "cell_type": "code",
   "execution_count": 4,
   "metadata": {},
   "outputs": [
    {
     "name": "stdout",
     "output_type": "stream",
     "text": [
      "#Cibersegruidad #infosec #seguridad #China Pobre chinos: Cada uno de los 700 millones varones chinos en el mundo ti… https://t.co/2ct51emSTg\n",
      "Se inicia Ciclo de Encuentros Técnicos Virtuales, organizados por el SEDALP, con la temática de la Estrategia Metro… https://t.co/m9HPgHJ0eJ\n",
      "#Abuelita de 90 años es la #gamer más famosa de #Japón y su deseo es jugar con #PlayStation 5… https://t.co/zZT5HvbegU\n",
      "#Abuelita de 90 años es la #gamer más famosa de #Japón y su deseo es jugar con #PlayStation 5… https://t.co/E9EDhl9iga\n",
      "#NOVAParaguay I ⭕️ Experto anticipa \"pandemia de inseguridad\".\n",
      "...\n",
      "@MTESS_PY @MJusticiaPy #Seguridad #justicia #Py… https://t.co/PxQxnnOkO4\n",
      "RT @frarivasCoL: Es lamentable que el @GobiernoMX siga manipulando la información, no hay contención ni baja en la violencia.\n",
      "19 meses desp…\n",
      "Doble feminicidio en Bogotá. Capturan a Marco Fidel Díaz, presunto asesino de Heidy Soriano y de su hija.  \n",
      "La noch… https://t.co/sAwuR6SIua\n",
      "No lo dudes, consulta los cursos de formación del Instituto de Seguridad y Bienestar Laboral - … https://t.co/W7kG7JPmPI\n",
      "RT @hospiten: ⚠ Recuerda: distanciamiento, uso de #mascarillas, lavado de manos frecuente con geles hidroalcohólicos 👐\n",
      "🏥 Desde #Hospiten in…\n",
      "RT @kobli_biblio: 🗞️🇪🇺Boletín de Actualidad en #Seguridad de la UE ABRIL 2020 elaborado por #CAPGC,  acompañado de Boletín Especial UE  #Co…\n"
     ]
    }
   ],
   "source": [
    "# Collect tweets\n",
    "tweets = tw.Cursor(api.search,\n",
    "              q=search_words,\n",
    "              lang=\"es\",\n",
    "              since=date_since,\n",
    "                           ).items(10)\n",
    "\n",
    "# Iterate and print tweets\n",
    "for tweet in tweets:\n",
    "    print(tweet.text)\n"
   ]
  },
  {
   "cell_type": "code",
   "execution_count": 7,
   "metadata": {},
   "outputs": [
    {
     "name": "stdout",
     "output_type": "stream",
     "text": [
      "----retweets-----\n",
      "#Cibersegruidad #infosec #seguridad #China Pobre chinos: Cada uno de los 700 millones varones chinos en el mundo ti… https://t.co/2ct51emSTg\n",
      "Se inicia Ciclo de Encuentros Técnicos Virtuales, organizados por el SEDALP, con la temática de la Estrategia Metro… https://t.co/m9HPgHJ0eJ\n",
      "#Abuelita de 90 años es la #gamer más famosa de #Japón y su deseo es jugar con #PlayStation 5… https://t.co/zZT5HvbegU\n",
      "#Abuelita de 90 años es la #gamer más famosa de #Japón y su deseo es jugar con #PlayStation 5… https://t.co/E9EDhl9iga\n",
      "#NOVAParaguay I ⭕️ Experto anticipa \"pandemia de inseguridad\".\n",
      "...\n",
      "@MTESS_PY @MJusticiaPy #Seguridad #justicia #Py… https://t.co/PxQxnnOkO4\n",
      "Doble feminicidio en Bogotá. Capturan a Marco Fidel Díaz, presunto asesino de Heidy Soriano y de su hija.  \n",
      "La noch… https://t.co/sAwuR6SIua\n",
      "No lo dudes, consulta los cursos de formación del Instituto de Seguridad y Bienestar Laboral - … https://t.co/W7kG7JPmPI\n",
      "🌨 Como les tengo que aceptar la solicitud de entrada porque #Seguridad🤨 les recomiendo meterse en cuanto puedan por… https://t.co/bnVvQZq6It\n",
      "Aplica ahora para trabajar para #Hyatt como #Gerente de #Seguridad en #ZihuatanejoGROMX! #oferta… https://t.co/1VabwPkzw8\n",
      "#Seguridad Las detonaciones de arma de fuego alertaron a los vecinos, quienes reportaron el hecho #Ecodiario… https://t.co/5dVWIzZTcZ\n",
      "[['Webimprints', 'Pennsylvania, USA'], ['AgendaMetropoli', ''], ['LuisAmillopez', ''], ['asiap_uy', 'Uruguay'], ['NOVA_Paraguay', 'Asunción'], ['notiamerica', 'Houston, Texas, EE.UU'], ['prevencionar_mx', 'México'], ['CtrlSilky', \"↬ 𝘾𝙤𝙤𝙥𝙚𝙧'𝙨 𝙝𝙚𝙖𝙧𝙩ˊˊ\"], ['mabermejo69', 'Sao Paulo'], ['Ecodiariozac', 'Zacatecas, México']]\n"
     ]
    }
   ],
   "source": [
    "# retweets\n",
    "print('----retweets-----')\n",
    "new_search = search_words + \" -filter:retweets\"\n",
    "new_search\n",
    "tweets = tw.Cursor(api.search,\n",
    "                       q=new_search,\n",
    "                       lang=\"es\",\n",
    "                       since=date_since,\n",
    "                   ).items(10)\n",
    "[print(tweet.text) for tweet in tweets]\n",
    "\n",
    "tweets = tw.Cursor(api.search,\n",
    "                           q=new_search,\n",
    "                           lang=\"es\",\n",
    "                           since=date_since,\n",
    "                          ).items(10)\n",
    "\n",
    "users_locs = [[tweet.user.screen_name, tweet.user.location] for tweet in tweets]\n",
    "print(users_locs)"
   ]
  }
 ],
 "metadata": {
  "hide_input": false,
  "kernelspec": {
   "display_name": "Python 3",
   "language": "python",
   "name": "python3"
  },
  "language_info": {
   "codemirror_mode": {
    "name": "ipython",
    "version": 3
   },
   "file_extension": ".py",
   "mimetype": "text/x-python",
   "name": "python",
   "nbconvert_exporter": "python",
   "pygments_lexer": "ipython3",
   "version": "3.6.8"
  },
  "toc": {
   "base_numbering": 1,
   "nav_menu": {},
   "number_sections": true,
   "sideBar": true,
   "skip_h1_title": false,
   "title_cell": "Table of Contents",
   "title_sidebar": "Contents",
   "toc_cell": false,
   "toc_position": {},
   "toc_section_display": true,
   "toc_window_display": false
  }
 },
 "nbformat": 4,
 "nbformat_minor": 4
}
